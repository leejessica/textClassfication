{
 "cells": [
  {
   "cell_type": "code",
   "execution_count": 1,
   "metadata": {
    "collapsed": true
   },
   "outputs": [],
   "source": [
    "import numpy as np"
   ]
  },
  {
   "cell_type": "code",
   "execution_count": 7,
   "metadata": {
    "collapsed": true
   },
   "outputs": [],
   "source": [
    "a=np.arange(0, 24).reshape([-1, 3])"
   ]
  },
  {
   "cell_type": "code",
   "execution_count": 8,
   "metadata": {
    "collapsed": false
   },
   "outputs": [
    {
     "data": {
      "text/plain": [
       "array([[ 0,  1,  2],\n",
       "       [ 3,  4,  5],\n",
       "       [ 6,  7,  8],\n",
       "       [ 9, 10, 11],\n",
       "       [12, 13, 14],\n",
       "       [15, 16, 17],\n",
       "       [18, 19, 20],\n",
       "       [21, 22, 23]])"
      ]
     },
     "execution_count": 8,
     "metadata": {},
     "output_type": "execute_result"
    }
   ],
   "source": [
    "a"
   ]
  },
  {
   "cell_type": "code",
   "execution_count": 16,
   "metadata": {
    "collapsed": false
   },
   "outputs": [],
   "source": [
    "b=np.arange(24, 48).reshape([2, 3, 4])"
   ]
  },
  {
   "cell_type": "code",
   "execution_count": 4,
   "metadata": {
    "collapsed": true
   },
   "outputs": [],
   "source": [
    "import tensorflow as tf"
   ]
  },
  {
   "cell_type": "code",
   "execution_count": 13,
   "metadata": {
    "collapsed": false
   },
   "outputs": [
    {
     "name": "stdout",
     "output_type": "stream",
     "text": [
      "[ 3 12 21 30 39 48 57 66]\n",
      "34\n",
      "11\n"
     ]
    }
   ],
   "source": [
    "with tf.Session() as sess:\n",
    "    b=tf.reduce_sum(a, axis=1)\n",
    "    print(sess.run(b))\n",
    "    c=tf.reduce_mean(b)\n",
    "    print(sess.run(c))\n",
    "    print(sess.run(tf.reduce_mean(a)))"
   ]
  },
  {
   "cell_type": "code",
   "execution_count": 28,
   "metadata": {
    "collapsed": false
   },
   "outputs": [
    {
     "name": "stdout",
     "output_type": "stream",
     "text": [
      "[[[ 0  1  2  3 24 25 26 27]\n",
      "  [ 4  5  6  7 28 29 30 31]\n",
      "  [ 8  9 10 11 32 33 34 35]]\n",
      "\n",
      " [[12 13 14 15 36 37 38 39]\n",
      "  [16 17 18 19 40 41 42 43]\n",
      "  [20 21 22 23 44 45 46 47]]]\n",
      "[2 3 8]\n"
     ]
    }
   ],
   "source": [
    "with tf.Session() as sess:\n",
    "    c=tf.concat([a, b], axis=-1)\n",
    "    print(sess.run(c))\n",
    "    print(sess.run(tf.shape(c)))"
   ]
  },
  {
   "cell_type": "code",
   "execution_count": 32,
   "metadata": {
    "collapsed": false
   },
   "outputs": [
    {
     "name": "stdout",
     "output_type": "stream",
     "text": [
      "[[[ 0  1  2  3 24 25 26 27]\n",
      "  [ 4  5  6  7 28 29 30 31]\n",
      "  [ 8  9 10 11 32 33 34 35]]\n",
      "\n",
      " [[12 13 14 15 36 37 38 39]\n",
      "  [16 17 18 19 40 41 42 43]\n",
      "  [20 21 22 23 44 45 46 47]]]\n",
      "[2 3 8]\n",
      "[[ 0  1  2  3 24 25 26 27  4  5  6  7 28 29 30 31  8  9 10 11 32 33 34 35]\n",
      " [12 13 14 15 36 37 38 39 16 17 18 19 40 41 42 43 20 21 22 23 44 45 46 47]]\n"
     ]
    }
   ],
   "source": [
    "with tf.Session() as sess:\n",
    "    c=tf.concat([a, b], axis=-1)\n",
    "    print(sess.run(c))\n",
    "    print(sess.run(tf.shape(c)))\n",
    "    print(sess.run(tf.reshape(c, [-1, 24])))"
   ]
  },
  {
   "cell_type": "code",
   "execution_count": 11,
   "metadata": {
    "collapsed": false
   },
   "outputs": [
    {
     "ename": "ValueError",
     "evalue": "('a must in:', 'Adagrad, Adam, Ftrl, Momentum, RMSProp, SGD')",
     "output_type": "error",
     "traceback": [
      "\u001b[0;31m---------------------------------------------------------------------------\u001b[0m",
      "\u001b[0;31mValueError\u001b[0m                                Traceback (most recent call last)",
      "\u001b[0;32m<ipython-input-11-65005d0a9292>\u001b[0m in \u001b[0;36m<module>\u001b[0;34m()\u001b[0m\n\u001b[1;32m      2\u001b[0m \u001b[0ma\u001b[0m\u001b[0;34m=\u001b[0m\u001b[0;34m'Ada'\u001b[0m\u001b[0;34m\u001b[0m\u001b[0m\n\u001b[1;32m      3\u001b[0m \u001b[0;32mif\u001b[0m \u001b[0ma\u001b[0m \u001b[0;32mnot\u001b[0m \u001b[0;32min\u001b[0m \u001b[0ml\u001b[0m\u001b[0;34m:\u001b[0m\u001b[0;34m\u001b[0m\u001b[0m\n\u001b[0;32m----> 4\u001b[0;31m     \u001b[0;32mraise\u001b[0m \u001b[0mValueError\u001b[0m\u001b[0;34m(\u001b[0m\u001b[0;34m'a must in:'\u001b[0m\u001b[0;34m,\u001b[0m \u001b[0;34m', '\u001b[0m\u001b[0;34m.\u001b[0m\u001b[0mjoin\u001b[0m\u001b[0;34m(\u001b[0m\u001b[0mstr\u001b[0m\u001b[0;34m(\u001b[0m\u001b[0mp\u001b[0m\u001b[0;34m)\u001b[0m \u001b[0;32mfor\u001b[0m \u001b[0mp\u001b[0m \u001b[0;32min\u001b[0m \u001b[0ml\u001b[0m\u001b[0;34m)\u001b[0m\u001b[0;34m)\u001b[0m\u001b[0;34m\u001b[0m\u001b[0m\n\u001b[0m",
      "\u001b[0;31mValueError\u001b[0m: ('a must in:', 'Adagrad, Adam, Ftrl, Momentum, RMSProp, SGD')"
     ]
    }
   ],
   "source": [
    "l=['Adagrad', 'Adam', 'Ftrl', 'Momentum', 'RMSProp', 'SGD']\n",
    "a='Ada'\n",
    "if a not in l:\n",
    "    raise ValueError('optimizer name must in:', ', '.join(str(p) for p in l))"
   ]
  },
  {
   "cell_type": "code",
   "execution_count": 2,
   "metadata": {
    "collapsed": false
   },
   "outputs": [],
   "source": [
    "a=[0, 1, 2, 3, 4, 5]"
   ]
  },
  {
   "cell_type": "code",
   "execution_count": 5,
   "metadata": {
    "collapsed": false
   },
   "outputs": [
    {
     "data": {
      "text/plain": [
       "[1, 2, 3, 4, 5]"
      ]
     },
     "execution_count": 5,
     "metadata": {},
     "output_type": "execute_result"
    }
   ],
   "source": [
    "a[-5:]"
   ]
  },
  {
   "cell_type": "code",
   "execution_count": 8,
   "metadata": {
    "collapsed": true
   },
   "outputs": [],
   "source": [
    "import numpy as np\n",
    "c = np.random.random([10,4])"
   ]
  },
  {
   "cell_type": "code",
   "execution_count": 9,
   "metadata": {
    "collapsed": false
   },
   "outputs": [
    {
     "data": {
      "text/plain": [
       "array([[0.8865252 , 0.43584411, 0.56891338, 0.31299799],\n",
       "       [0.32058895, 0.09466641, 0.55136498, 0.38011176],\n",
       "       [0.87362878, 0.19643638, 0.60203029, 0.89104147],\n",
       "       [0.04591807, 0.7605325 , 0.47349434, 0.27045576],\n",
       "       [0.30200917, 0.63607701, 0.2713708 , 0.1196827 ],\n",
       "       [0.82477742, 0.14769168, 0.48271175, 0.93773567],\n",
       "       [0.63239771, 0.43670797, 0.77505197, 0.18157581],\n",
       "       [0.29500087, 0.39819646, 0.35115378, 0.56916733],\n",
       "       [0.47027824, 0.17974106, 0.90952103, 0.35159888],\n",
       "       [0.87426793, 0.23066359, 0.94609097, 0.50498006]])"
      ]
     },
     "execution_count": 9,
     "metadata": {},
     "output_type": "execute_result"
    }
   ],
   "source": [
    "c"
   ]
  },
  {
   "cell_type": "code",
   "execution_count": 10,
   "metadata": {
    "collapsed": false
   },
   "outputs": [
    {
     "name": "stderr",
     "output_type": "stream",
     "text": [
      "WARNING:tensorflow:From /Library/Frameworks/Python.framework/Versions/3.6/lib/python3.6/site-packages/tensorflow/python/util/tf_should_use.py:118: initialize_all_variables (from tensorflow.python.ops.variables) is deprecated and will be removed after 2017-03-02.\n",
      "Instructions for updating:\n",
      "Use `tf.global_variables_initializer` instead.\n"
     ]
    },
    {
     "name": "stdout",
     "output_type": "stream",
     "text": [
      "[[0.32058895 0.09466641 0.55136498 0.38011176]\n",
      " [0.04591807 0.7605325  0.47349434 0.27045576]]\n"
     ]
    }
   ],
   "source": [
    "import tensorflow as tf\n",
    "b = tf.nn.embedding_lookup(c, [1, 3])\n",
    " \n",
    "with tf.Session() as sess:\n",
    "    sess.run(tf.initialize_all_variables())\n",
    "    print(sess.run(b))"
   ]
  },
  {
   "cell_type": "code",
   "execution_count": 3,
   "metadata": {
    "collapsed": false
   },
   "outputs": [
    {
     "name": "stdout",
     "output_type": "stream",
     "text": [
      "please input an integer:8\n"
     ]
    }
   ],
   "source": [
    "a=input(\"please input an integer:\")"
   ]
  },
  {
   "cell_type": "code",
   "execution_count": 4,
   "metadata": {
    "collapsed": false
   },
   "outputs": [
    {
     "name": "stdout",
     "output_type": "stream",
     "text": [
      "8\n"
     ]
    }
   ],
   "source": [
    "print(a)"
   ]
  },
  {
   "cell_type": "code",
   "execution_count": null,
   "metadata": {
    "collapsed": true
   },
   "outputs": [],
   "source": []
  }
 ],
 "metadata": {
  "kernelspec": {
   "display_name": "Python 3",
   "language": "python",
   "name": "python3"
  },
  "language_info": {
   "codemirror_mode": {
    "name": "ipython",
    "version": 3
   },
   "file_extension": ".py",
   "mimetype": "text/x-python",
   "name": "python",
   "nbconvert_exporter": "python",
   "pygments_lexer": "ipython3",
   "version": "3.6.1"
  }
 },
 "nbformat": 4,
 "nbformat_minor": 0
}
